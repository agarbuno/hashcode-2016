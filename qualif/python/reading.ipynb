{
 "cells": [
  {
   "cell_type": "code",
   "execution_count": 2,
   "metadata": {
    "collapsed": true
   },
   "outputs": [],
   "source": [
    "import numpy as np\n",
    "import pandas as pd\n",
    "import time as time\n",
    "import operator\n",
    "import matplotlib.pyplot as plt\n",
    "%matplotlib inline\n",
    "from IPython.display import display, Image, clear_output\n",
    "from scipy.spatial.distance import pdist, squareform\n",
    "from collections import defaultdict"
   ]
  },
  {
   "cell_type": "code",
   "execution_count": 44,
   "metadata": {
    "collapsed": false
   },
   "outputs": [],
   "source": [
    "filepath = '/Users/alfredogarbuno/github-repos/hashcode-2016/qualif/data/busy_day.in'\n",
    "f = open(filepath, \"r+\")\n",
    "\n",
    "rows, cols, ndrones, deadline, maxload = f.readline().split()\n",
    "ntypes = int(f.readline())\n",
    "weights = np.array(f.readline().split(), np.int32)\n",
    "nwhs = int(f.readline())\n",
    "\n",
    "stocks = np.empty([nwhs, ntypes] , np.int32)\n",
    "whloc  = np.empty([nwhs, 2], np.float32)\n",
    "\n",
    "for wh in range(nwhs):\n",
    "    whloc[wh]  = np.array(f.readline().split(), np.int32)\n",
    "    stocks[wh] = np.array(f.readline().split(), np.int32)\n",
    "\n",
    "norders = int(f.readline())\n",
    "orders = defaultdict(list)\n",
    "destinations = np.empty([norders, 2], np.int32)\n",
    "nitemsorders = defaultdict(int)\n",
    "\n",
    "for order in range(norders):\n",
    "    destinations[order] = np.array(f.readline().split(), np.int32)\n",
    "    nitemsorders[order] = int(f.readline())\n",
    "    orders[order] = np.int_(f.readline().split())\n",
    "\n",
    "f.close()"
   ]
  },
  {
   "cell_type": "code",
   "execution_count": null,
   "metadata": {
    "collapsed": false
   },
   "outputs": [],
   "source": []
  }
 ],
 "metadata": {
  "kernelspec": {
   "display_name": "Python 2",
   "language": "python",
   "name": "python2"
  },
  "language_info": {
   "codemirror_mode": {
    "name": "ipython",
    "version": 2
   },
   "file_extension": ".py",
   "mimetype": "text/x-python",
   "name": "python",
   "nbconvert_exporter": "python",
   "pygments_lexer": "ipython2",
   "version": "2.7.11"
  }
 },
 "nbformat": 4,
 "nbformat_minor": 0
}
