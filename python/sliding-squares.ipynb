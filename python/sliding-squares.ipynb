{
 "cells": [
  {
   "cell_type": "code",
   "execution_count": 82,
   "metadata": {
    "collapsed": true
   },
   "outputs": [],
   "source": [
    "import numpy as np\n",
    "import pandas as pd\n",
    "import time as time\n",
    "import operator\n",
    "import matplotlib.pyplot as plt\n",
    "%matplotlib inline\n",
    "from IPython.display import display, Image, clear_output\n",
    "from scipy.spatial.distance import pdist, squareform"
   ]
  },
  {
   "cell_type": "code",
   "execution_count": 86,
   "metadata": {
    "collapsed": false
   },
   "outputs": [],
   "source": [
    "filepath = '/Users/alfredogarbuno/github-repos/hashcode-2015/data/right_angle.in'\n",
    "f = open(filepath, \"r+\")\n",
    "dimstr = f.readline().split()\n",
    "paint = np.empty([int(dimstr[0]), int(dimstr[1])])\n",
    "\n",
    "for i in range(int(dimstr[0])):\n",
    "    paint[i] = np.array(list(f.readline().split()[0].replace(\".\", \"0\").replace(\"#\", \"1\")), np.int32)\n",
    "    \n",
    "f.close()"
   ]
  },
  {
   "cell_type": "code",
   "execution_count": 87,
   "metadata": {
    "collapsed": false
   },
   "outputs": [
    {
     "data": {
      "image/png": "[encoded data removed]",
      "text/plain": [
       "<matplotlib.figure.Figure at 0x119f5b410>"
      ]
     },
     "metadata": {},
     "output_type": "display_data"
    }
   ],
   "source": [
    "plt.figure(figsize=(10,10))\n",
    "plt.imshow(paint)\n",
    "fig = plt.gca()\n",
    "fig.axes.get_xaxis().set_visible(False)\n",
    "fig.axes.get_yaxis().set_visible(False)"
   ]
  },
  {
   "cell_type": "code",
   "execution_count": 88,
   "metadata": {
    "collapsed": false
   },
   "outputs": [
    {
     "name": "stdout",
     "output_type": "stream",
     "text": [
      "[ 40 200]\n"
     ]
    }
   ],
   "source": [
    "dim = np.array(dimstr, np.int32)\n",
    "print dim"
   ]
  },
  {
   "cell_type": "code",
   "execution_count": 90,
   "metadata": {
    "collapsed": false
   },
   "outputs": [
    {
     "name": "stdout",
     "output_type": "stream",
     "text": [
      "0.324\n"
     ]
    }
   ],
   "source": [
    "density = paint.sum() / dim.prod()\n",
    "print density"
   ]
  },
  {
   "cell_type": "code",
   "execution_count": 105,
   "metadata": {
    "collapsed": false
   },
   "outputs": [
    {
     "name": "stdout",
     "output_type": "stream",
     "text": [
      "12\n"
     ]
    }
   ],
   "source": [
    "minsize = int(dim.min() * density)\n",
    "minsize = 12\n",
    "print minsize"
   ]
  },
  {
   "cell_type": "code",
   "execution_count": 106,
   "metadata": {
    "collapsed": false
   },
   "outputs": [
    {
     "name": "stdout",
     "output_type": "stream",
     "text": [
      "[[   1    2    3 ...,  198  199  200]\n",
      " [ 201  202  203 ...,  398  399  400]\n",
      " [ 401  402  403 ...,  598  599  600]\n",
      " ..., \n",
      " [7401 7402 7403 ..., 7598 7599 7600]\n",
      " [7601 7602 7603 ..., 7798 7799 7800]\n",
      " [7801 7802 7803 ..., 7998 7999 8000]]\n"
     ]
    }
   ],
   "source": [
    "indices = np.arange(1,dim.prod()+1).reshape(dim)\n",
    "print indices"
   ]
  },
  {
   "cell_type": "code",
   "execution_count": 107,
   "metadata": {
    "collapsed": false
   },
   "outputs": [
    {
     "data": {
      "text/plain": [
       "array([[2413, 2414, 2415, ..., 2586, 2587, 2588],\n",
       "       [2613, 2614, 2615, ..., 2786, 2787, 2788],\n",
       "       [2813, 2814, 2815, ..., 2986, 2987, 2988],\n",
       "       ..., \n",
       "       [5013, 5014, 5015, ..., 5186, 5187, 5188],\n",
       "       [5213, 5214, 5215, ..., 5386, 5387, 5388],\n",
       "       [5413, 5414, 5415, ..., 5586, 5587, 5588]])"
      ]
     },
     "execution_count": 107,
     "metadata": {},
     "output_type": "execute_result"
    }
   ],
   "source": [
    "# Generate the indices, in the test example we can only have sqp(1) so we lose 2 rows and 2 columns, first and last \n",
    "# in both cases.\n",
    "row, col = np.indices((dim[0]-2*minsize, dim[1]-2*minsize))\n",
    "centers = indices[row+minsize, col+minsize]\n",
    "centers"
   ]
  },
  {
   "cell_type": "code",
   "execution_count": 108,
   "metadata": {
    "collapsed": true
   },
   "outputs": [],
   "source": [
    "# Test case, let's take the center in cell 9\n",
    "# We access that center by knowing it is in the second row, so the first row in the center matrix\n",
    "# And we know that it is the first column\n",
    "\n",
    "def discrete_kernel(center, minsize):\n",
    "    dist = np.empty((2*minsize+1,2*minsize+1))\n",
    "    decay = np.logspace(0,1,minsize+1 )\n",
    "    \n",
    "    for xstep in range(-minsize,minsize+1):\n",
    "        for ystep in range(-minsize,minsize+1):\n",
    "            dist[1+xstep][1+ystep] = 1 * paint[center[0]+xstep][center[1]+ystep]\n",
    "            \n",
    "    return (dist.sum()+0.0)/np.array(dist.shape).prod()"
   ]
  },
  {
   "cell_type": "code",
   "execution_count": 109,
   "metadata": {
    "collapsed": false
   },
   "outputs": [
    {
     "name": "stdout",
     "output_type": "stream",
     "text": [
      "2816\n"
     ]
    }
   ],
   "source": [
    "# Computes the densities of zeroes for every possible center\n",
    "cands = []\n",
    "cands = [ (ycoord, discrete_kernel([row+minsize, ycoord%dim[1]-1], minsize)) for row in range(centers.shape[0]) \n",
    "        for ycoord in centers[row]]\n",
    "print len(cands)"
   ]
  },
  {
   "cell_type": "code",
   "execution_count": 110,
   "metadata": {
    "collapsed": false
   },
   "outputs": [],
   "source": [
    "# Given a threshold filter the centers most probable to a successful square paint\n",
    "threshold = 0.6\n",
    "\n",
    "cands = [(key, value) for (key,value) in cands if value > threshold]\n",
    "cands = sorted(cands, key=lambda element: (-element[1], element[0]))\n",
    "#cands = sorted(cands, key=operator.itemgetter( 1))\n",
    "#cands.reverse()"
   ]
  },
  {
   "cell_type": "code",
   "execution_count": 120,
   "metadata": {
    "collapsed": false
   },
   "outputs": [
    {
     "name": "stdout",
     "output_type": "stream",
     "text": [
      "0.8848\n",
      "72.0\n",
      "0.8848\n"
     ]
    }
   ],
   "source": [
    "print cands[0][1]\n",
    "print (1-cands[0][1])*(2*minsize+1)**2\n",
    "print (cands[0][1])*(2*minsize+1)**2/(2*minsize + 1 )**2"
   ]
  },
  {
   "cell_type": "code",
   "execution_count": 98,
   "metadata": {
    "collapsed": false
   },
   "outputs": [],
   "source": [
    "def paint_square(center, minsize):\n",
    "    for xstep in range(-minsize,minsize+1):\n",
    "        for ystep in range(-minsize,minsize+1):\n",
    "            paint[center[0]+xstep][center[1]+ystep] = 0.0"
   ]
  },
  {
   "cell_type": "code",
   "execution_count": 99,
   "metadata": {
    "collapsed": false
   },
   "outputs": [
    {
     "data": {
      "image/png": "[encoded data removed]",
      "text/plain": [
       "<matplotlib.figure.Figure at 0x11a999d50>"
      ]
     },
     "metadata": {},
     "output_type": "display_data"
    }
   ],
   "source": [
    "plt.figure(figsize=(10,10))\n",
    "plt.imshow(paint)\n",
    "fig = plt.gca()\n",
    "fig.axes.get_xaxis().set_visible(False)\n",
    "fig.axes.get_yaxis().set_visible(False)"
   ]
  },
  {
   "cell_type": "code",
   "execution_count": 79,
   "metadata": {
    "collapsed": false
   },
   "outputs": [
    {
     "data": {
      "text/plain": [
       "97814"
      ]
     },
     "execution_count": 79,
     "metadata": {},
     "output_type": "execute_result"
    }
   ],
   "source": [
    "cands[0][0]"
   ]
  },
  {
   "cell_type": "code",
   "execution_count": 80,
   "metadata": {
    "collapsed": false
   },
   "outputs": [
    {
     "data": {
      "text/plain": [
       "<matplotlib.figure.Figure at 0x11a103ad0>"
      ]
     },
     "metadata": {},
     "output_type": "display_data"
    },
    {
     "data": {
      "image/png": "[encoded data removed]",
      "text/plain": [
       "<matplotlib.figure.Figure at 0x11a9abfd0>"
      ]
     },
     "metadata": {},
     "output_type": "display_data"
    }
   ],
   "source": [
    "fig=plt.figure()\n",
    "n = len(cands)\n",
    "i = 0\n",
    "paints = 1\n",
    "plt.figure(figsize=(10,10))\n",
    "plt.imshow(paint)\n",
    "clear_output(wait=True)\n",
    "display(plt.gcf())\n",
    "time.sleep(2)\n",
    "\n",
    "for cand in cands:\n",
    "    center = ( cand[0] // dim[1], cand[0] % dim[1] - 1)\n",
    "    if cand[0] == cands[0][0]:\n",
    "        paint_square(center, minsize)\n",
    "        plt.imshow(paint)\n",
    "        clear_output(wait=True)\n",
    "        display(plt.gcf())\n",
    "        time.sleep(1)\n",
    "    else:\n",
    "        if discrete_kernel(center, minsize) > threshold:\n",
    "            paint_square(center, minsize)\n",
    "            paints += 1\n",
    "            plt.imshow(paint)\n",
    "            clear_output(wait=True)\n",
    "            display(plt.gcf())\n",
    "            time.sleep(0.001)\n",
    "            \n",
    "clear_output(wait=True)"
   ]
  },
  {
   "cell_type": "code",
   "execution_count": 81,
   "metadata": {
    "collapsed": false
   },
   "outputs": [
    {
     "data": {
      "text/plain": [
       "141"
      ]
     },
     "execution_count": 81,
     "metadata": {},
     "output_type": "execute_result"
    }
   ],
   "source": [
    "paints"
   ]
  },
  {
   "cell_type": "code",
   "execution_count": 104,
   "metadata": {
    "collapsed": false
   },
   "outputs": [
    {
     "data": {
      "text/plain": [
       "(4835, 1.0)"
      ]
     },
     "execution_count": 104,
     "metadata": {},
     "output_type": "execute_result"
    }
   ],
   "source": [
    "cands[1000]"
   ]
  },
  {
   "cell_type": "code",
   "execution_count": null,
   "metadata": {
    "collapsed": false
   },
   "outputs": [],
   "source": []
  },
  {
   "cell_type": "code",
   "execution_count": null,
   "metadata": {
    "collapsed": true
   },
   "outputs": [],
   "source": []
  },
  {
   "cell_type": "code",
   "execution_count": null,
   "metadata": {
    "collapsed": true
   },
   "outputs": [],
   "source": []
  },
  {
   "cell_type": "code",
   "execution_count": null,
   "metadata": {
    "collapsed": true
   },
   "outputs": [],
   "source": []
  },
  {
   "cell_type": "code",
   "execution_count": null,
   "metadata": {
    "collapsed": true
   },
   "outputs": [],
   "source": []
  },
  {
   "cell_type": "code",
   "execution_count": null,
   "metadata": {
    "collapsed": true
   },
   "outputs": [],
   "source": []
  },
  {
   "cell_type": "code",
   "execution_count": null,
   "metadata": {
    "collapsed": true
   },
   "outputs": [],
   "source": []
  },
  {
   "cell_type": "code",
   "execution_count": null,
   "metadata": {
    "collapsed": true
   },
   "outputs": [],
   "source": []
  },
  {
   "cell_type": "code",
   "execution_count": null,
   "metadata": {
    "collapsed": false
   },
   "outputs": [],
   "source": []
  },
  {
   "cell_type": "code",
   "execution_count": null,
   "metadata": {
    "collapsed": true
   },
   "outputs": [],
   "source": []
  },
  {
   "cell_type": "code",
   "execution_count": null,
   "metadata": {
    "collapsed": true
   },
   "outputs": [],
   "source": []
  },
  {
   "cell_type": "code",
   "execution_count": null,
   "metadata": {
    "collapsed": true
   },
   "outputs": [],
   "source": []
  },
  {
   "cell_type": "code",
   "execution_count": null,
   "metadata": {
    "collapsed": true
   },
   "outputs": [],
   "source": []
  },
  {
   "cell_type": "code",
   "execution_count": null,
   "metadata": {
    "collapsed": true
   },
   "outputs": [],
   "source": []
  },
  {
   "cell_type": "code",
   "execution_count": null,
   "metadata": {
    "collapsed": true
   },
   "outputs": [],
   "source": []
  },
  {
   "cell_type": "code",
   "execution_count": null,
   "metadata": {
    "collapsed": true
   },
   "outputs": [],
   "source": []
  }
 ],
 "metadata": {
  "kernelspec": {
   "display_name": "Python 2",
   "language": "python",
   "name": "python2"
  },
  "language_info": {
   "codemirror_mode": {
    "name": "ipython",
    "version": 2
   },
   "file_extension": ".py",
   "mimetype": "text/x-python",
   "name": "python",
   "nbconvert_exporter": "python",
   "pygments_lexer": "ipython2",
   "version": "2.7.11"
  }
 },
 "nbformat": 4,
 "nbformat_minor": 0
}
