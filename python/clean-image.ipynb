{
 "cells": [
  {
   "cell_type": "code",
   "execution_count": 205,
   "metadata": {
    "collapsed": true
   },
   "outputs": [],
   "source": [
    "import numpy as np\n",
    "import pandas as pd\n",
    "import time as time\n",
    "import operator\n",
    "import matplotlib.pyplot as plt\n",
    "%matplotlib inline\n",
    "from IPython.display import display, Image, clear_output\n",
    "from scipy.spatial.distance import pdist, squareform\n",
    "from collections import defaultdict"
   ]
  },
  {
   "cell_type": "code",
   "execution_count": 206,
   "metadata": {
    "collapsed": true
   },
   "outputs": [],
   "source": [
    "def discrete_kernel(center, minsize):\n",
    "    dist = np.empty((2*minsize+1,2*minsize+1))\n",
    "    decay = np.logspace(0,1,minsize+1 )\n",
    "    \n",
    "    for xstep in range(-minsize,minsize+1):\n",
    "        for ystep in range(-minsize,minsize+1):\n",
    "            dist[1+xstep][1+ystep] = 1 * paint[center[0]+xstep][center[1]+ystep]\n",
    "            \n",
    "    return (dist.sum()+0.0)/np.array(dist.shape).prod()"
   ]
  },
  {
   "cell_type": "code",
   "execution_count": 207,
   "metadata": {
    "collapsed": true
   },
   "outputs": [],
   "source": [
    "def paint_square(center, minsize):\n",
    "    for xstep in range(-minsize,minsize+1):\n",
    "        for ystep in range(-minsize,minsize+1):\n",
    "            paint[center[0]+xstep][center[1]+ystep] = 0.0"
   ]
  },
  {
   "cell_type": "code",
   "execution_count": 305,
   "metadata": {
    "collapsed": true
   },
   "outputs": [],
   "source": [
    "filepath = '/Users/alfredogarbuno/github-repos/hashcode-2015/data/logo.in'\n",
    "f = open(filepath, \"r+\")\n",
    "dimstr = f.readline().split()\n",
    "paint = np.empty([int(dimstr[0]), int(dimstr[1])])\n",
    "\n",
    "for i in range(int(dimstr[0])):\n",
    "    paint[i] = np.array(list(f.readline().split()[0].replace(\".\", \"0\").replace(\"#\", \"1\")), np.int32)\n",
    "    \n",
    "f.close()"
   ]
  },
  {
   "cell_type": "code",
   "execution_count": 306,
   "metadata": {
    "collapsed": false
   },
   "outputs": [
    {
     "data": {
      "image/png": "[encoded data removed]",
      "text/plain": [
       "<matplotlib.figure.Figure at 0x11a93f590>"
      ]
     },
     "metadata": {},
     "output_type": "display_data"
    }
   ],
   "source": [
    "plt.figure(figsize=(10,10))\n",
    "plt.imshow(paint)\n",
    "fig = plt.gca()\n",
    "fig.axes.get_xaxis().set_visible(False)\n",
    "fig.axes.get_yaxis().set_visible(False)"
   ]
  },
  {
   "cell_type": "code",
   "execution_count": 307,
   "metadata": {
    "collapsed": false
   },
   "outputs": [
    {
     "name": "stdout",
     "output_type": "stream",
     "text": [
      "3\n",
      "3\n"
     ]
    }
   ],
   "source": [
    "dim = np.array(dimstr, np.int32)\n",
    "density = paint.sum() / dim.prod()\n",
    "minsize = int(dim.min() * density)\n",
    "print minsize\n",
    "# Parameters\n",
    "minsize = 3\n",
    "threshold = 0.9\n",
    "print minsize\n",
    "indices = np.arange(1,dim.prod()+1).reshape(dim)"
   ]
  },
  {
   "cell_type": "code",
   "execution_count": 308,
   "metadata": {
    "collapsed": false
   },
   "outputs": [
    {
     "data": {
      "image/png": "[encoded data removed]",
      "text/plain": [
       "<matplotlib.figure.Figure at 0x1186a2050>"
      ]
     },
     "metadata": {},
     "output_type": "display_data"
    }
   ],
   "source": [
    "# This paints with squares\n",
    "\n",
    "paints = defaultdict(list)\n",
    "zeros = 0;\n",
    "plt.figure(figsize=(10,10))\n",
    "\n",
    "while minsize > 0:\n",
    "    # Create centers\n",
    "    row, col = np.indices((dim[0]-2*minsize, dim[1]-2*minsize))\n",
    "    centers = indices[row+minsize, col+minsize]\n",
    "    # Create candidate list\n",
    "    cands = []\n",
    "    cands = [ (ycoord, discrete_kernel([row+minsize, ycoord%dim[1]-1], minsize)) for row in range(centers.shape[0]) \n",
    "            for ycoord in centers[row]]\n",
    "    # Filter candidates\n",
    "    cands = [(key, value) for (key,value) in cands if value >= threshold]\n",
    "    cands = sorted(cands, key=lambda element: (-element[1], element[0]))\n",
    "    # Begin drawing with squares\n",
    "    for cand in cands:\n",
    "        center = ( cand[0] // dim[1], cand[0] % dim[1] - 1)\n",
    "        if cand[0] == cands[0][0]:\n",
    "            zeros += (1-cand[1]) * (2*minsize + 1)**2\n",
    "            paint_square(center, minsize)\n",
    "            paints[minsize].append(center)\n",
    "            plt.imshow(paint)\n",
    "            clear_output(wait=True)\n",
    "            display(plt.gcf())\n",
    "            time.sleep(0.001)\n",
    "        else:\n",
    "            if discrete_kernel(center, minsize) >= threshold:\n",
    "                zeros += (1-cand[1]) * (2*minsize + 1)**2\n",
    "                paint_square(center, minsize)\n",
    "                paints[minsize].append(center)\n",
    "                plt.imshow(paint)\n",
    "                clear_output(wait=True)\n",
    "                display(plt.gcf())\n",
    "                time.sleep(0.001)\n",
    "                \n",
    "    minsize += -1\n",
    "\n",
    "clear_output(wait=True)"
   ]
  },
  {
   "cell_type": "code",
   "execution_count": 300,
   "metadata": {
    "collapsed": false
   },
   "outputs": [
    {
     "name": "stdout",
     "output_type": "stream",
     "text": [
      "747\n"
     ]
    }
   ],
   "source": [
    "# Total square paints\n",
    "print np.array([v for (k, v) in paints.items()]).sum()"
   ]
  },
  {
   "cell_type": "code",
   "execution_count": 301,
   "metadata": {
    "collapsed": false
   },
   "outputs": [
    {
     "data": {
      "text/plain": [
       "[(1, 14)]"
      ]
     },
     "execution_count": 301,
     "metadata": {},
     "output_type": "execute_result"
    }
   ],
   "source": [
    "[ (key,len(paints[key])) for key in paints.keys() ]"
   ]
  },
  {
   "cell_type": "code",
   "execution_count": 309,
   "metadata": {
    "collapsed": false
   },
   "outputs": [
    {
     "name": "stdout",
     "output_type": "stream",
     "text": [
      "Free pixels:  217.0\n",
      "Erase commands:  0.0\n",
      "Square commands:  10\n"
     ]
    }
   ],
   "source": [
    "# Total pixels\n",
    "print \"Free pixels: \", paint.sum()\n",
    "# Total erases\n",
    "print \"Erase commands: \", zeros\n",
    "# Total squares\n",
    "print \"Square commands: \", sum([ v for (k,v) in [ (key,len(paints[key])) for key in paints.keys() ]])"
   ]
  },
  {
   "cell_type": "code",
   "execution_count": 288,
   "metadata": {
    "collapsed": false
   },
   "outputs": [],
   "source": [
    "commands = []\n",
    "for key in paints.keys():\n",
    "    for center in paints[key]:\n",
    "        commands.append((key, center[0], center[1]))"
   ]
  },
  {
   "cell_type": "code",
   "execution_count": 290,
   "metadata": {
    "collapsed": false
   },
   "outputs": [
    {
     "data": {
      "text/plain": [
       "[(1, 2, 65),\n",
       " (1, 5, 1),\n",
       " (1, 5, 60),\n",
       " (1, 5, 65),\n",
       " (1, 6, 17),\n",
       " (1, 7, 22),\n",
       " (1, 7, 46),\n",
       " (1, 7, 69),\n",
       " (1, 8, 60),\n",
       " (1, 8, 65)]"
      ]
     },
     "execution_count": 290,
     "metadata": {},
     "output_type": "execute_result"
    }
   ],
   "source": [
    "commands"
   ]
  },
  {
   "cell_type": "code",
   "execution_count": 232,
   "metadata": {
    "collapsed": false
   },
   "outputs": [],
   "source": [
    "def write_squares(n, commands, path):\n",
    "    with open(path, 'w') as fh:\n",
    "        fh.write('{}\\n'.format(n))\n",
    "        for command in commands:\n",
    "            if command[0] > 0:\n",
    "                fh.write('PAINT_SQUARE '+str(command[2])+ ' ' + str(command[1])+ ' ' + str(command[0]) + '\\n')\n",
    "            else:\n",
    "                # fh.write('ERASE_CELL {} {}\\n'.format(*command[1:3]))\n",
    "                print 'hello'\n"
   ]
  },
  {
   "cell_type": "code",
   "execution_count": 236,
   "metadata": {
    "collapsed": true
   },
   "outputs": [],
   "source": [
    "def write_lines(commands, path):\n",
    "    with open(path, 'a') as fh:\n",
    "        for command in commands:\n",
    "            fh.write('PAINT_LINE '+str(command[2])+ ' ' + str(command[1])+ ' ' + str(command[0]) + '\\n')"
   ]
  },
  {
   "cell_type": "code",
   "execution_count": 234,
   "metadata": {
    "collapsed": false
   },
   "outputs": [],
   "source": [
    "outpath = '/Users/alfredogarbuno/github-repos/hashcode-2015/data/output.in'\n",
    "write_squares(10, commands, outpath)\n",
    "write_lines(commands,outpath)"
   ]
  },
  {
   "cell_type": "code",
   "execution_count": 245,
   "metadata": {
    "collapsed": false
   },
   "outputs": [
    {
     "data": {
      "image/png": "[encoded data removed]",
      "text/plain": [
       "<matplotlib.figure.Figure at 0x102495550>"
      ]
     },
     "metadata": {},
     "output_type": "display_data"
    }
   ],
   "source": [
    "plt.figure(figsize=(10,10))\n",
    "plt.imshow(paint)\n",
    "fig = plt.gca()\n",
    "fig.axes.get_xaxis().set_visible(False)\n",
    "fig.axes.get_yaxis().set_visible(False)"
   ]
  },
  {
   "cell_type": "code",
   "execution_count": 292,
   "metadata": {
    "collapsed": false
   },
   "outputs": [
    {
     "name": "stdout",
     "output_type": "stream",
     "text": [
      "0 8\n",
      "0 8 5 0\n",
      "0 9\n",
      "0 9 4 0\n",
      "0 10\n",
      "0 10 3 0\n",
      "0 11\n",
      "0 11 2 0\n",
      "0 12\n",
      "0 12 1 0\n",
      "1 4\n",
      "1 4 12 0\n",
      "1 5\n",
      "1 5 11 0\n",
      "1 6\n",
      "1 6 10 0\n",
      "1 7\n",
      "1 7 9 0\n",
      "1 8\n",
      "1 8 8 0\n",
      "1 9\n",
      "1 9 7 0\n",
      "1 10\n",
      "1 10 6 0\n",
      "1 11\n",
      "1 11 5 0\n",
      "1 12\n",
      "1 12 4 0\n",
      "1 13\n"
     ]
    },
    {
     "ename": "IndexError",
     "evalue": "index 13 is out of bounds for axis 0 with size 13",
     "output_type": "error",
     "traceback": [
      "\u001b[0;31m---------------------------------------------------------------------------\u001b[0m",
      "\u001b[0;31mIndexError\u001b[0m                                Traceback (most recent call last)",
      "\u001b[0;32m<ipython-input-292-82eb24333a69>\u001b[0m in \u001b[0;36m<module>\u001b[0;34m()\u001b[0m\n\u001b[1;32m     10\u001b[0m                 \u001b[0;32melse\u001b[0m\u001b[0;34m:\u001b[0m\u001b[0;34m\u001b[0m\u001b[0m\n\u001b[1;32m     11\u001b[0m                     \u001b[0;32mbreak\u001b[0m\u001b[0;34m\u001b[0m\u001b[0m\n\u001b[0;32m---> 12\u001b[0;31m             \u001b[0;32mfor\u001b[0m \u001b[0mbit\u001b[0m \u001b[0;32min\u001b[0m \u001b[0mpaint\u001b[0m\u001b[0;34m[\u001b[0m\u001b[0mrow\u001b[0m\u001b[0;34m:\u001b[0m\u001b[0;34m]\u001b[0m\u001b[0;34m[\u001b[0m\u001b[0mcol\u001b[0m\u001b[0;34m]\u001b[0m\u001b[0;34m:\u001b[0m\u001b[0;34m\u001b[0m\u001b[0m\n\u001b[0m\u001b[1;32m     13\u001b[0m                 \u001b[0;32mif\u001b[0m \u001b[0mbit\u001b[0m\u001b[0;34m:\u001b[0m\u001b[0;34m\u001b[0m\u001b[0m\n\u001b[1;32m     14\u001b[0m                     \u001b[0mhline\u001b[0m \u001b[0;34m+=\u001b[0m \u001b[0;36m1\u001b[0m\u001b[0;34m\u001b[0m\u001b[0m\n",
      "\u001b[0;31mIndexError\u001b[0m: index 13 is out of bounds for axis 0 with size 13"
     ]
    }
   ],
   "source": [
    "for row in range(indices.shape[0]):\n",
    "    for col in range(indices.shape[1]):\n",
    "        if paint[row][col]:\n",
    "            vline = 0\n",
    "            hline = 0 \n",
    "            print row, col\n",
    "            for bit in paint[row][col:]:\n",
    "                if bit:\n",
    "                    vline += 1\n",
    "                else:\n",
    "                    break\n",
    "            for bit in paint[row:][col]:\n",
    "                if bit:\n",
    "                    hline += 1\n",
    "                else:\n",
    "                    break\n",
    "            print row, col, vline, hline\n",
    "                    "
   ]
  },
  {
   "cell_type": "code",
   "execution_count": 278,
   "metadata": {
    "collapsed": false
   },
   "outputs": [],
   "source": [
    "paint[0][14]\n",
    "for bit in paint[0][80:]:\n",
    "    if bit:\n",
    "        print bit\n",
    "#paint[:][8]"
   ]
  },
  {
   "cell_type": "code",
   "execution_count": 272,
   "metadata": {
    "collapsed": false
   },
   "outputs": [
    {
     "data": {
      "text/plain": [
       "(14, 80)"
      ]
     },
     "execution_count": 272,
     "metadata": {},
     "output_type": "execute_result"
    }
   ],
   "source": [
    "paint.shape"
   ]
  },
  {
   "cell_type": "code",
   "execution_count": null,
   "metadata": {
    "collapsed": true
   },
   "outputs": [],
   "source": []
  },
  {
   "cell_type": "code",
   "execution_count": null,
   "metadata": {
    "collapsed": true
   },
   "outputs": [],
   "source": []
  }
 ],
 "metadata": {
  "kernelspec": {
   "display_name": "Python 2",
   "language": "python",
   "name": "python2"
  },
  "language_info": {
   "codemirror_mode": {
    "name": "ipython",
    "version": 2
   },
   "file_extension": ".py",
   "mimetype": "text/x-python",
   "name": "python",
   "nbconvert_exporter": "python",
   "pygments_lexer": "ipython2",
   "version": "2.7.11"
  }
 },
 "nbformat": 4,
 "nbformat_minor": 0
}
