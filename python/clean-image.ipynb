{
 "cells": [
  {
   "cell_type": "code",
   "execution_count": 125,
   "metadata": {
    "collapsed": true
   },
   "outputs": [],
   "source": [
    "import numpy as np\n",
    "import pandas as pd\n",
    "import time as time\n",
    "import operator\n",
    "import matplotlib.pyplot as plt\n",
    "%matplotlib inline\n",
    "from IPython.display import display, Image, clear_output\n",
    "from scipy.spatial.distance import pdist, squareform\n",
    "from collections import defaultdict"
   ]
  },
  {
   "cell_type": "code",
   "execution_count": 126,
   "metadata": {
    "collapsed": true
   },
   "outputs": [],
   "source": [
    "def discrete_kernel(center, minsize):\n",
    "    dist = np.empty((2*minsize+1,2*minsize+1))\n",
    "    decay = np.logspace(0,1,minsize+1 )\n",
    "    \n",
    "    for xstep in range(-minsize,minsize+1):\n",
    "        for ystep in range(-minsize,minsize+1):\n",
    "            dist[1+xstep][1+ystep] = 1 * paint[center[0]+xstep][center[1]+ystep]\n",
    "            \n",
    "    return (dist.sum()+0.0)/np.array(dist.shape).prod()"
   ]
  },
  {
   "cell_type": "code",
   "execution_count": 127,
   "metadata": {
    "collapsed": true
   },
   "outputs": [],
   "source": [
    "def paint_square(center, minsize):\n",
    "    for xstep in range(-minsize,minsize+1):\n",
    "        for ystep in range(-minsize,minsize+1):\n",
    "            paint[center[0]+xstep][center[1]+ystep] = 0.0"
   ]
  },
  {
   "cell_type": "code",
   "execution_count": 128,
   "metadata": {
    "collapsed": true
   },
   "outputs": [],
   "source": [
    "def check_line(line):\n",
    "    row = line[1]\n",
    "    col = line[2]\n",
    "    vline = 0\n",
    "    hline = 0 \n",
    "    if paint[row][col]:\n",
    "        for bit in paint[row, col:]:\n",
    "            if bit:\n",
    "                hline += 1\n",
    "            else:\n",
    "                break\n",
    "        for bit in paint[row:, col]:\n",
    "            if bit:\n",
    "                vline += 1\n",
    "            else:\n",
    "                break\n",
    "    newline = (line[0], line[1], line[2], hline, vline)\n",
    "    return newline"
   ]
  },
  {
   "cell_type": "code",
   "execution_count": 129,
   "metadata": {
    "collapsed": true
   },
   "outputs": [],
   "source": [
    "def paint_line(line):\n",
    "    cmds = 0;\n",
    "    if line[3] > line[4]:\n",
    "        paint[line[1],range(line[2], line[3] + line[2])] = 0.0\n",
    "        cmds += 1\n",
    "    elif line[3] == line[4]:\n",
    "        paint[line[1] , range(line[2], line[3] + line[2])] = 0.0\n",
    "        paint[range(line[1], line[1] + line[4]) , line[2]] = 0.0\n",
    "        if line[3] == 1:\n",
    "            cmds += 1\n",
    "        else:\n",
    "            cmds += 2\n",
    "    else:\n",
    "        paint[range(line[1], line[1] + line[4]) , line[2]] = 0.0\n",
    "        cmds += 1\n",
    "    return cmds"
   ]
  },
  {
   "cell_type": "code",
   "execution_count": 130,
   "metadata": {
    "collapsed": true
   },
   "outputs": [],
   "source": [
    "filepath = '/Users/alfredogarbuno/github-repos/hashcode-2015/data/logo.in'\n",
    "f = open(filepath, \"r+\")\n",
    "dimstr = f.readline().split()\n",
    "paint = np.empty([int(dimstr[0]), int(dimstr[1])])\n",
    "\n",
    "for i in range(int(dimstr[0])):\n",
    "    paint[i] = np.array(list(f.readline().split()[0].replace(\".\", \"0\").replace(\"#\", \"1\")), np.int32)\n",
    "    \n",
    "f.close()"
   ]
  },
  {
   "cell_type": "code",
   "execution_count": 131,
   "metadata": {
    "collapsed": false
   },
   "outputs": [
    {
     "data": {
      "image/png": "[encoded data removed]",
      "text/plain": [
       "<matplotlib.figure.Figure at 0x1186c4410>"
      ]
     },
     "metadata": {},
     "output_type": "display_data"
    }
   ],
   "source": [
    "plt.figure(figsize=(10,10))\n",
    "plt.imshow(paint)\n",
    "fig = plt.gca()\n",
    "fig.axes.get_xaxis().set_visible(False)\n",
    "fig.axes.get_yaxis().set_visible(False)"
   ]
  },
  {
   "cell_type": "code",
   "execution_count": 132,
   "metadata": {
    "collapsed": false
   },
   "outputs": [
    {
     "name": "stdout",
     "output_type": "stream",
     "text": [
      "3\n",
      "1\n"
     ]
    }
   ],
   "source": [
    "dim = np.array(dimstr, np.int32)\n",
    "density = paint.sum() / dim.prod()\n",
    "minsize = int(dim.min() * density)\n",
    "print minsize\n",
    "# Parameters\n",
    "minsize = 1\n",
    "threshold = 8.0/9\n",
    "print minsize\n",
    "indices = np.arange(1,dim.prod()+1).reshape(dim)"
   ]
  },
  {
   "cell_type": "code",
   "execution_count": 133,
   "metadata": {
    "collapsed": false
   },
   "outputs": [
    {
     "data": {
      "image/png": "[encoded data removed]",
      "text/plain": [
       "<matplotlib.figure.Figure at 0x11a298190>"
      ]
     },
     "metadata": {},
     "output_type": "display_data"
    }
   ],
   "source": [
    "# This paints with squares\n",
    "\n",
    "paints = defaultdict(list)\n",
    "zeros = 0;\n",
    "plt.figure(figsize=(10,10))\n",
    "\n",
    "while minsize > 0:\n",
    "    # Create centers\n",
    "    row, col = np.indices((dim[0]-2*minsize, dim[1]-2*minsize))\n",
    "    centers = indices[row+minsize, col+minsize]\n",
    "    # Create candidate list\n",
    "    cands = []\n",
    "    cands = [ (ycoord, discrete_kernel([row+minsize, ycoord%dim[1]-1], minsize)) for row in range(centers.shape[0]) \n",
    "            for ycoord in centers[row]]\n",
    "    # Filter candidates\n",
    "    cands = [(key, value) for (key,value) in cands if value >= threshold]\n",
    "    cands = sorted(cands, key=lambda element: (-element[1], element[0]))\n",
    "    # Begin drawing with squares\n",
    "    for cand in cands:\n",
    "        center = ( cand[0] // dim[1], cand[0] % dim[1] - 1)\n",
    "        if cand[0] == cands[0][0]:\n",
    "            zeros += (1-cand[1]) * (2*minsize + 1)**2\n",
    "            paint_square(center, minsize)\n",
    "            paints[minsize].append(center)\n",
    "            plt.imshow(paint)\n",
    "            clear_output(wait=True)\n",
    "            display(plt.gcf())\n",
    "            time.sleep(0.001)\n",
    "        else:\n",
    "            if discrete_kernel(center, minsize) >= threshold:\n",
    "                zeros += (1-cand[1]) * (2*minsize + 1)**2\n",
    "                paint_square(center, minsize)\n",
    "                paints[minsize].append(center)\n",
    "                plt.imshow(paint)\n",
    "                clear_output(wait=True)\n",
    "                display(plt.gcf())\n",
    "                time.sleep(0.001)\n",
    "                \n",
    "    minsize += -1\n",
    "\n",
    "clear_output(wait=True)"
   ]
  },
  {
   "cell_type": "code",
   "execution_count": 134,
   "metadata": {
    "collapsed": false
   },
   "outputs": [
    {
     "name": "stdout",
     "output_type": "stream",
     "text": [
      "747\n"
     ]
    }
   ],
   "source": [
    "# Total square paints\n",
    "print np.array([v for (k, v) in paints.items()]).sum()"
   ]
  },
  {
   "cell_type": "code",
   "execution_count": 135,
   "metadata": {
    "collapsed": false
   },
   "outputs": [
    {
     "data": {
      "text/plain": [
       "[(1, 14)]"
      ]
     },
     "execution_count": 135,
     "metadata": {},
     "output_type": "execute_result"
    }
   ],
   "source": [
    "[ (key,len(paints[key])) for key in paints.keys() ]"
   ]
  },
  {
   "cell_type": "code",
   "execution_count": 136,
   "metadata": {
    "collapsed": false
   },
   "outputs": [],
   "source": [
    "commands = []\n",
    "for key in paints.keys():\n",
    "    for center in paints[key]:\n",
    "        commands.append((key, center[0], center[1]))"
   ]
  },
  {
   "cell_type": "code",
   "execution_count": 137,
   "metadata": {
    "collapsed": false
   },
   "outputs": [
    {
     "data": {
      "text/plain": [
       "[(1, 2, 65),\n",
       " (1, 5, 1),\n",
       " (1, 5, 60),\n",
       " (1, 5, 65),\n",
       " (1, 6, 17),\n",
       " (1, 7, 22),\n",
       " (1, 7, 46),\n",
       " (1, 7, 69),\n",
       " (1, 8, 60),\n",
       " (1, 8, 65),\n",
       " (1, 5, 75),\n",
       " (1, 6, 31),\n",
       " (1, 6, 36),\n",
       " (1, 7, 51)]"
      ]
     },
     "execution_count": 137,
     "metadata": {},
     "output_type": "execute_result"
    }
   ],
   "source": [
    "commands"
   ]
  },
  {
   "cell_type": "code",
   "execution_count": 138,
   "metadata": {
    "collapsed": false
   },
   "outputs": [],
   "source": [
    "def write_squares(n, commands, path):\n",
    "    with open(path, 'w') as fh:\n",
    "        fh.write('{}\\n'.format(n))\n",
    "        for command in commands:\n",
    "            if command[0] > 0:\n",
    "                fh.write('PAINT_SQUARE '+str(command[2])+ ' ' + str(command[1])+ ' ' + str(command[0]) + '\\n')\n",
    "            else:\n",
    "                # fh.write('ERASE_CELL {} {}\\n'.format(*command[1:3]))\n",
    "                print 'hello'\n"
   ]
  },
  {
   "cell_type": "code",
   "execution_count": 139,
   "metadata": {
    "collapsed": true
   },
   "outputs": [],
   "source": [
    "def write_lines(commands, path):\n",
    "    with open(path, 'a') as fh:\n",
    "        for command in commands:\n",
    "            fh.write('PAINT_LINE '+str(command[2])+ ' ' + str(command[1])+ ' ' + str(command[0]) + '\\n')"
   ]
  },
  {
   "cell_type": "code",
   "execution_count": 140,
   "metadata": {
    "collapsed": false
   },
   "outputs": [],
   "source": [
    "outpath = '/Users/alfredogarbuno/github-repos/hashcode-2015/data/output.in'\n",
    "write_squares(10, commands, outpath)\n",
    "write_lines(commands,outpath)"
   ]
  },
  {
   "cell_type": "code",
   "execution_count": 141,
   "metadata": {
    "collapsed": false
   },
   "outputs": [
    {
     "data": {
      "image/png": "[encoded data removed]",
      "text/plain": [
       "<matplotlib.figure.Figure at 0x1194dcdd0>"
      ]
     },
     "metadata": {},
     "output_type": "display_data"
    }
   ],
   "source": [
    "plt.figure(figsize=(10,10))\n",
    "plt.imshow(paint)\n",
    "fig = plt.gca()\n",
    "fig.axes.get_xaxis().set_visible(False)\n",
    "fig.axes.get_yaxis().set_visible(False)"
   ]
  },
  {
   "cell_type": "code",
   "execution_count": 142,
   "metadata": {
    "collapsed": false
   },
   "outputs": [],
   "source": [
    "lines = []\n",
    "for row in range(indices.shape[0]):\n",
    "    for col in range(indices.shape[1]):\n",
    "        if paint[row][col]:\n",
    "            vline = 0\n",
    "            hline = 0 \n",
    "            for bit in paint[row, col:]:\n",
    "                if bit:\n",
    "                    hline += 1\n",
    "                else:\n",
    "                    break\n",
    "            for bit in paint[row:, col]:\n",
    "                if bit:\n",
    "                    vline += 1\n",
    "                else:\n",
    "                    break\n",
    "            lines.append( (indices[row,col], row, col, hline, vline) )\n",
    "                    \n",
    "lines = sorted(lines, key=lambda element: (-max(element[3], element[4]), element[0]))"
   ]
  },
  {
   "cell_type": "code",
   "execution_count": 143,
   "metadata": {
    "collapsed": false
   },
   "outputs": [
    {
     "data": {
      "image/png": "[encoded data removed]",
      "text/plain": [
       "<matplotlib.figure.Figure at 0x11a298f50>"
      ]
     },
     "metadata": {},
     "output_type": "display_data"
    },
    {
     "data": {
      "image/png": "[encoded data removed]",
      "text/plain": [
       "<matplotlib.figure.Figure at 0x11a298f50>"
      ]
     },
     "metadata": {},
     "output_type": "display_data"
    }
   ],
   "source": [
    "plt.figure(figsize=(10,10))\n",
    "linecmds = []\n",
    "for line in lines:\n",
    "    nwline = check_line(line)\n",
    "    if max(nwline[3],nwline[4]) > 0:\n",
    "        cmds = paint_line(line)\n",
    "        linecmds.append(cmds)\n",
    "        plt.imshow(paint)\n",
    "        clear_output(wait=True)\n",
    "        display(plt.gcf())\n",
    "        time.sleep(0.001)"
   ]
  },
  {
   "cell_type": "code",
   "execution_count": 144,
   "metadata": {
    "collapsed": false
   },
   "outputs": [
    {
     "name": "stdout",
     "output_type": "stream",
     "text": [
      "Free pixels:  0.0\n",
      "Erase commands:  4.0\n",
      "Square commands:  14\n",
      "Line commands:  42\n"
     ]
    }
   ],
   "source": [
    "# Total pixels\n",
    "print \"Free pixels: \", paint.sum()\n",
    "# Total erases\n",
    "print \"Erase commands: \", zeros\n",
    "# Total squares\n",
    "print \"Square commands: \", sum([ v for (k,v) in [ (key,len(paints[key])) for key in paints.keys() ]])\n",
    "# Total of line commands\n",
    "print \"Line commands: \", len(linecmds)"
   ]
  },
  {
   "cell_type": "code",
   "execution_count": 103,
   "metadata": {
    "collapsed": false
   },
   "outputs": [
    {
     "data": {
      "text/plain": [
       "50"
      ]
     },
     "execution_count": 103,
     "metadata": {},
     "output_type": "execute_result"
    }
   ],
   "source": [
    "len(linecmds)"
   ]
  },
  {
   "cell_type": "code",
   "execution_count": null,
   "metadata": {
    "collapsed": false
   },
   "outputs": [],
   "source": []
  },
  {
   "cell_type": "code",
   "execution_count": null,
   "metadata": {
    "collapsed": false
   },
   "outputs": [],
   "source": []
  },
  {
   "cell_type": "code",
   "execution_count": null,
   "metadata": {
    "collapsed": false
   },
   "outputs": [],
   "source": []
  }
 ],
 "metadata": {
  "kernelspec": {
   "display_name": "Python 2",
   "language": "python",
   "name": "python2"
  },
  "language_info": {
   "codemirror_mode": {
    "name": "ipython",
    "version": 2
   },
   "file_extension": ".py",
   "mimetype": "text/x-python",
   "name": "python",
   "nbconvert_exporter": "python",
   "pygments_lexer": "ipython2",
   "version": "2.7.11"
  }
 },
 "nbformat": 4,
 "nbformat_minor": 0
}
